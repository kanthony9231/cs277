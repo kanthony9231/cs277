{
 "cells": [
  {
   "cell_type": "markdown",
   "metadata": {},
   "source": [
    "The autograder will run with the following imports (and only the following imports). Depending on your notebook setup you may not actually need these imports, but its worth running this once at the start to be sure."
   ]
  },
  {
   "cell_type": "code",
   "execution_count": 1,
   "metadata": {},
   "outputs": [],
   "source": [
    "import numpy as np\n",
    "import matplotlib.pyplot as plt\n",
    "import matplotlib.animation as animation\n",
    "from matplotlib import colors"
   ]
  },
  {
   "cell_type": "code",
   "execution_count": 2,
   "metadata": {},
   "outputs": [],
   "source": [
    "#grade\n",
    "\n",
    "#INPUT:\n",
    "# An integer rows storing the number of rows\n",
    "# An integer cols storing the number of columns\n",
    "#OUTPUT:\n",
    "# A list of lists forming a 2D matrix.\n",
    "# The output must be either a numpy.ndarray or a built-in python nested list\n",
    "\n",
    "def emptyMatrix(rows, cols):\n",
    "    #YOUR CODE HERE\n",
    "    num = (rows, cols)\n",
    "    arr = np.zeros(num, dtype=float)\n",
    "    return arr"
   ]
  },
  {
   "cell_type": "code",
   "execution_count": 3,
   "metadata": {},
   "outputs": [],
   "source": [
    "#grade\n",
    "\n",
    "#INPUT:\n",
    "#A lists of lists forming a 2D matrix (using a built-in list)\n",
    "#OUTPUT:\n",
    "# A list of size 2 storing the number of rows at index 0 \n",
    "# and the number of columns at index 1\n",
    "def getSize(matrix):\n",
    "    # YOUR CODE HERE\n",
    "    return matrix.shape"
   ]
  },
  {
   "cell_type": "code",
   "execution_count": 4,
   "metadata": {},
   "outputs": [],
   "source": [
    "#grade\n",
    "\n",
    "#INPUT:\n",
    "# A lists of lists forming a 2D matrix (using a built-in list)\n",
    "# A string fName storing the absolute path to a space-separated text file\n",
    "#OUTPUT:\n",
    "# A list of lists forming a 2D matrix.\n",
    "# The output must be either a numpy.ndarray or a built-in python nested list\n",
    "# The matrix should be the same dimensions as the input and must include all x,y pairs found in the input file.\n",
    "# NOTE: If an input pair has a coordinate larger than the matrix, it should be ignored\n",
    "def importValues(matrix, fName):\n",
    "    with open(fName, 'r') as f:\n",
    "        lines = f.readlines()\n",
    "    x_max,y_max = getSize(matrix)\n",
    "    new_matrix = np.zeros((x_max, y_max))\n",
    "    for line in lines:\n",
    "        x, y = map(int, line.strip().split())\n",
    "        if x < 0 or y < 0 or x >= x_max or y >= y_max:\n",
    "            continue\n",
    "        new_matrix[x][y] = 1\n",
    "    #print(*new_matrix.tolist(),sep=\"\\n\")\n",
    "    return new_matrix.tolist()"
   ]
  },
  {
   "cell_type": "code",
   "execution_count": 5,
   "metadata": {},
   "outputs": [],
   "source": [
    "#grade\n",
    "\n",
    "#INPUT:\n",
    "# A lists of lists forming a 2D matrix (using a built-in list)\n",
    "#OUTPUT:\n",
    "# A list of lists forming a 2D matrix.\n",
    "# The output must be either a numpy.ndarray or a built-in python nested list\n",
    "# The matrix should be the same dimensions as the input and be the next timestamp\n",
    "# of cellular automata. Your logic should consider indices past matrix boundaries 'empty'.\n",
    "# NOTE: You should return a deep copy of the matrix, not a shallow one!\n",
    "def update(matrix):\n",
    "    x_max = len(matrix)\n",
    "    y_max = len(matrix[0])\n",
    "    new_matrix = np.zeros((x_max, y_max), dtype=int)\n",
    "    for i in range(x_max):\n",
    "        for j in range(y_max):\n",
    "            live_neighbors = 0\n",
    "            for x in [-1, 0, 1]:\n",
    "                for y in [-1, 0, 1]:\n",
    "                    if x == 0 and y == 0:\n",
    "                        continue\n",
    "                    row = i + x\n",
    "                    col = j + y\n",
    "                    if row < 0 or col < 0 or row >= x_max or col >= y_max:\n",
    "                        continue\n",
    "                    if matrix[row][col] == 1:\n",
    "                        live_neighbors += 1\n",
    "            if matrix[i][j] == 1:\n",
    "                if live_neighbors == 2 or live_neighbors == 3:\n",
    "                    new_matrix[i][j] = 1\n",
    "            elif live_neighbors == 3:\n",
    "                new_matrix[i][j] = 1\n",
    "    return new_matrix.tolist()"
   ]
  },
  {
   "cell_type": "markdown",
   "metadata": {},
   "source": [
    "**Animation Code** In order to complete the autograded portion of this mini-project, you do not need to edit or modify the following functions. However you may want to modify things like the color, the framerate, or color boundaries when you visualize your own dataset."
   ]
  },
  {
   "cell_type": "code",
   "execution_count": 6,
   "metadata": {},
   "outputs": [],
   "source": [
    "#INPUT:\n",
    "# a frameNumber\n",
    "# a matplotlib AxesImage object\n",
    "# a 2D matrix (Notably this can be a 3D matrix as well with individual colors as RGBs)\n",
    "#OUTPUT:\n",
    "# a matplotlib AxesImage object containing the updated matrix\n",
    "def updateFig(frameNum, img, matrix):\n",
    "    # The first frame should be the actual input dataset, not the first update step.\n",
    "    if (frameNum == 0):\n",
    "        return img    \n",
    "\n",
    "    # NOTE: If you are making a gif for part 2, you will probably want to replace this\n",
    "    # The main point is that you need to both update matrix and img with the new frame\n",
    "    nm = update(matrix)\n",
    "    \n",
    "    matrix[:] = nm[:]\n",
    "\n",
    "    img.set_data(nm)\n",
    "\n",
    "    return img\n",
    "\n",
    "#INPUT:\n",
    "# a 2D matrix (Notably this can be a 3D matrix as well with individual colors as RGBs)\n",
    "# an integer storing the number of steps\n",
    "# a string storing the path and filename of the file to be written\n",
    "#OUTPUT:\n",
    "# None\n",
    "# Instead an image or gif is saved to the location specified by outname\n",
    "def animate(matrix, steps, outname):\n",
    "    matrix = np.array(matrix)\n",
    "    \n",
    "    # NOTE: If you change these two lines you can adjust the color and bin sizes\n",
    "    # This is only relevant for part 2 -- this code is not used or graded by the autograder\n",
    "    cmap = colors.ListedColormap(['blue', 'yellow', 'red']) \n",
    "    bounds = [0, 1, 2, 3]\n",
    "\n",
    "\n",
    "    norm = colors.BoundaryNorm(bounds, cmap.N)\n",
    "\n",
    "    fig, ax = plt.subplots()\n",
    "    plt.grid(False)\n",
    "    img = ax.imshow(matrix, cmap=cmap, norm=norm)\n",
    "    ani = animation.FuncAnimation(fig, updateFig, fargs=(img, matrix), frames=steps)\n",
    "\n",
    "\n",
    "    ani.save(outname, fps=2)"
   ]
  },
  {
   "cell_type": "markdown",
   "metadata": {},
   "source": [
    "Run-Code"
   ]
  },
  {
   "cell_type": "code",
   "execution_count": 20,
   "metadata": {},
   "outputs": [
    {
     "name": "stderr",
     "output_type": "stream",
     "text": [
      "MovieWriter ffmpeg unavailable; trying to use <class 'matplotlib.animation.PillowWriter'> instead.\n"
     ]
    },
    {
     "data": {
      "image/png": "[encoded data removed]",
      "text/plain": [
       "<Figure size 432x288 with 1 Axes>"
      ]
     },
     "metadata": {
      "needs_background": "light"
     },
     "output_type": "display_data"
    }
   ],
   "source": [
    "myFile = 'horizLine_5_5.txt'\n",
    "xdim = 12\n",
    "ydim = 12\n",
    "\n",
    "em = emptyMatrix(xdim,ydim) \n",
    "em = importValues(em, myFile)\n",
    "\n",
    "animate(em, 5, 'yourOutput.gif')\n",
    "\n",
    "# Here are the commands I used to produce the example gifs:\n",
    "# (You will have to adjust 'myFile' as well as the x and y dimensions to match)\n",
    "# animate(em, 30, 'horizLine_10_10_out.gif')\n",
    "# animate(em, 15, 'multiSpinner_12_12.gif')\n",
    "# animate(em, 15, 'horizLine_5_5_out.gif')\n",
    "# animate(em, 20, 'vanish_5_5_out.gif')\n",
    "# animate(em, 10, 'spinner_3_3_out.gif')\n",
    "# animate(em, 100, 'crazy_25_25_out.gif')\n",
    "# animate(em, 2, 'vertLine_5_5_out.gif')"
   ]
  },
  {
   "cell_type": "code",
   "execution_count": 7,
   "metadata": {},
   "outputs": [
    {
     "name": "stdout",
     "output_type": "stream",
     "text": [
      "-74.24442 -73.71299 40.49979 40.91306\n"
     ]
    }
   ],
   "source": [
    "import csv\n",
    " \n",
    "f = open('AB_NYC_2019.csv', 'r' ,encoding='utf-8') \n",
    "# ['id', 'name', 'host_id', 'host_name', 'neighbourhood_group', 'neighbourhood', 'latitude', 'longitude', 'room_type', 'price', 'minimum_nights', 'number_of_reviews', 'last_review', 'reviews_per_month', 'calculated_host_listings_count', 'availability_365', '', '', '']\n",
    "rdr = csv.reader(f)\n",
    "xlist=[]\n",
    "ylist=[]\n",
    " \n",
    "for line in rdr:\n",
    "#    print(line)\n",
    "# column 7 Longtitude\n",
    "# column 6 Latitude\n",
    "# order reversed since we normally displays the longitude first and latitude goes next\n",
    "    xlist.append(line[7])\n",
    "    ylist.append(line[6])\n",
    "f.close()   \n",
    "\n",
    "xdata=[]\n",
    "ydata=[]\n",
    "i=0\n",
    "# This code is to ensure that the line that causes problem when reading to be omitted (Some of the longitude columns have \"Entire Home/Apt\" instead of the value itself)\n",
    "while i<len(xlist):\n",
    "    try:\n",
    "        x=float(xlist[i])\n",
    "        y=float(ylist[i])\n",
    "        xdata.append(x)\n",
    "        ydata.append(y)\n",
    "    except:\n",
    "        pass\n",
    "    i+=1\n",
    "    \n",
    "xmin=min(xdata)\n",
    "xmax=max(xdata)\n",
    "ymin=min(ydata)\n",
    "ymax=max(ydata)\n",
    "print(xmin,xmax,ymin,ymax)\n",
    "f = open('AB_NYC_2019.txt', 'w', encoding='utf-8')\n",
    "for i in range(len(xdata)):\n",
    "    x=int((xdata[i]-xmin)/(xmax-xmin)*100)\n",
    "    y=int((ydata[i]-ymin)/(ymax-ymin)*100)\n",
    "    f.write(f\"{x} {y}\\n\")\n",
    "f.close()"
   ]
  },
  {
   "cell_type": "code",
   "execution_count": 10,
   "metadata": {},
   "outputs": [
    {
     "name": "stderr",
     "output_type": "stream",
     "text": [
      "MovieWriter ffmpeg unavailable; using Pillow instead.\n"
     ]
    },
    {
     "data": {
      "image/png": "[encoded data removed]",
      "text/plain": [
       "<Figure size 432x288 with 1 Axes>"
      ]
     },
     "metadata": {
      "needs_background": "light"
     },
     "output_type": "display_data"
    }
   ],
   "source": [
    "myFile = 'AB_NYC_2019.txt'\n",
    "xdim = 100\n",
    "ydim = 100\n",
    "\n",
    "em = emptyMatrix(xdim,ydim) \n",
    "em = importValues(em, myFile)\n",
    "\n",
    "animate(em, 100, 'AB_NYC_2019.gif')"
   ]
  },
  {
   "cell_type": "code",
   "execution_count": null,
   "metadata": {},
   "outputs": [],
   "source": []
  }
 ],
 "metadata": {
  "kernelspec": {
   "display_name": "Python 3",
   "language": "python",
   "name": "python3"
  },
  "language_info": {
   "codemirror_mode": {
    "name": "ipython",
    "version": 3
   },
   "file_extension": ".py",
   "mimetype": "text/x-python",
   "name": "python",
   "nbconvert_exporter": "python",
   "pygments_lexer": "ipython3",
   "version": "3.8.2"
  },
  "vscode": {
   "interpreter": {
    "hash": "0adcc2737ebf6a4a119f135174df96668767fca1ef1112612db5ecadf2b6d608"
   }
  }
 },
 "nbformat": 4,
 "nbformat_minor": 4
}
